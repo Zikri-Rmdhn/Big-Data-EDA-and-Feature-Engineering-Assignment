{
  "cells": [
    {
      "cell_type": "markdown",
      "metadata": {
        "id": "aZMlv0RmaXhQ"
      },
      "source": [
        "Members\n",
        "1. Muhammad Zikri Ramadhan (5025211085)\n",
        "2. Sandhika Surya (5025211022)\n",
        "\n",
        "\n",
        "The data for 2013 flight departing from\n",
        "- Newark Liberty Airport (NWE)\n",
        "- LaGuardia Airport (LGA)\n",
        "- John F Kennedy Airport (JFK)"
      ]
    },
    {
      "cell_type": "code",
      "execution_count": null,
      "metadata": {
        "id": "05tf8ippZpMR"
      },
      "outputs": [],
      "source": [
        "import pandas as pd\n",
        "\n",
        "data = pd.read_csv('flights.csv')"
      ]
    },
    {
      "cell_type": "code",
      "execution_count": null,
      "metadata": {
        "id": "mQyL7VIDSjqt"
      },
      "outputs": [],
      "source": [
        "import pandas as pd\n",
        "import numpy as np\n",
        "import matplotlib.pyplot as plt\n",
        "import seaborn as sns\n",
        "from sklearn.impute import SimpleImputer\n",
        "from sklearn.preprocessing import LabelEncoder"
      ]
    },
    {
      "cell_type": "code",
      "execution_count": null,
      "metadata": {
        "colab": {
          "base_uri": "https://localhost:8080/",
          "height": 759
        },
        "id": "cDAYaVfjPbFO",
        "outputId": "af74a9c3-6d6a-4c71-db28-c7c317b86d41"
      },
      "outputs": [],
      "source": [
        "data.head(10)"
      ]
    },
    {
      "cell_type": "code",
      "execution_count": null,
      "metadata": {
        "colab": {
          "base_uri": "https://localhost:8080/",
          "height": 742
        },
        "id": "pYO4eJeeUy3r",
        "outputId": "b9045fd2-6fe5-483b-d387-85d2ebb477cf"
      },
      "outputs": [],
      "source": [
        "data.nunique() # numbers of unique values for each features"
      ]
    },
    {
      "cell_type": "code",
      "execution_count": null,
      "metadata": {
        "colab": {
          "base_uri": "https://localhost:8080/"
        },
        "id": "Sc0odC-dm5fi",
        "outputId": "14f1f773-5635-4004-fa27-d034df809034"
      },
      "outputs": [],
      "source": [
        "data.info()"
      ]
    },
    {
      "cell_type": "code",
      "execution_count": null,
      "metadata": {
        "colab": {
          "base_uri": "https://localhost:8080/",
          "height": 519
        },
        "id": "LeUz1zhAmzT4",
        "outputId": "b2849aec-d9bc-4bcb-d0d4-664611401d71"
      },
      "outputs": [],
      "source": [
        "data.describe().T"
      ]
    },
    {
      "cell_type": "code",
      "execution_count": null,
      "metadata": {
        "colab": {
          "base_uri": "https://localhost:8080/",
          "height": 742
        },
        "id": "_vr8H261p0wd",
        "outputId": "cceac004-4247-4cf5-a762-f29f0f93bce6"
      },
      "outputs": [],
      "source": [
        "# Check null on each columns\n",
        "data.isnull().sum()"
      ]
    },
    {
      "cell_type": "code",
      "execution_count": null,
      "metadata": {
        "colab": {
          "base_uri": "https://localhost:8080/"
        },
        "id": "femwWt1FQfOB",
        "outputId": "20425dc1-5faa-4e0b-ca25-32318253f300"
      },
      "outputs": [],
      "source": [
        "duplicate_rows = data[data.duplicated()]\n",
        "print(\"number of duplicate rows: \", duplicate_rows.shape)\n",
        "data.info()"
      ]
    },
    {
      "cell_type": "code",
      "execution_count": null,
      "metadata": {
        "colab": {
          "base_uri": "https://localhost:8080/"
        },
        "id": "f2BroIdLRtN6",
        "outputId": "3beccf70-2068-418a-f38e-39a4997d05c8"
      },
      "outputs": [],
      "source": [
        "# Dropping column id, year, time_hour, and name\n",
        "# id : id of the record\n",
        "# year : year of the record. all data is from 2013\n",
        "# time_hour : departure data in format yyyy-mm-dd hh-mm-ss\n",
        "# name : full name of the airlines\n",
        "\n",
        "data.drop(columns=['id', 'year', 'time_hour', 'name'], axis=1, inplace=True)\n",
        "data.info()"
      ]
    },
    {
      "cell_type": "code",
      "execution_count": null,
      "metadata": {
        "colab": {
          "base_uri": "https://localhost:8080/"
        },
        "id": "haVA1otQkMDq",
        "outputId": "4ad22ae0-6a60-4e82-9dc1-76223fd30387"
      },
      "outputs": [],
      "source": [
        "# the count of each unique values for each categorical values\n",
        "\n",
        "for col in data.columns:\n",
        "  if data.dtypes[col] == 'object':\n",
        "    print(f'{col} : {data[col].value_counts()}\\n')"
      ]
    },
    {
      "cell_type": "code",
      "execution_count": null,
      "metadata": {
        "id": "pwgtHGCcnHwH"
      },
      "outputs": [],
      "source": [
        "data.describe().T"
      ]
    },
    {
      "cell_type": "code",
      "execution_count": null,
      "metadata": {
        "id": "eGdSiVxJt2cz"
      },
      "outputs": [],
      "source": [
        "# Creating isWeekend feature\n",
        "# To know if a flight is on weekend/weekday based on the date\n",
        "\n",
        "data['isWeekend'] = pd.to_datetime({'year': 2013, 'month': data['month'], 'day': data['day']}).dt.weekday >= 5\n",
        "data['isWeekend'] = data['isWeekend'].astype(int)"
      ]
    },
    {
      "cell_type": "code",
      "execution_count": null,
      "metadata": {
        "id": "EIEVFH9ct3vX"
      },
      "outputs": [],
      "source": [
        "# Changing hhmm format to minutes from 00:00\n",
        "# Calculating scheduled air time\n",
        "# sched_air_time = sched_arr_time - sched_dep_time\n",
        "\n",
        "def hhmm_to_minutes(time):\n",
        "    hours = time // 100\n",
        "    minutes = time % 100\n",
        "    return hours * 60 + minutes\n",
        "\n",
        "data['dep_time'] = data['dep_time'].apply(lambda x: hhmm_to_minutes(int(x)) if pd.notna(x) else x)\n",
        "data['arr_time'] = data['arr_time'].apply(lambda x: hhmm_to_minutes(int(x)) if pd.notna(x) else x)\n",
        "data['sched_dep_time'] = data['sched_dep_time'].apply(hhmm_to_minutes)\n",
        "data['sched_arr_time'] = data['sched_arr_time'].apply(hhmm_to_minutes)\n",
        "\n",
        "data['sched_air_time'] = abs(data['sched_arr_time'] - data['sched_dep_time'])"
      ]
    },
    {
      "cell_type": "code",
      "execution_count": null,
      "metadata": {
        "id": "M5Fgu0JauEnZ"
      },
      "outputs": [],
      "source": [
        "# Imputation based on this formula:\n",
        "# air_time = arr_time - dep_time\n",
        "\n",
        "def impute_times(row):\n",
        "    if row['air_time'] is np.nan and pd.notna(row['arr_time']) and pd.notna(row['dep_time']):\n",
        "        row['air_time'] = row['arr_time'] - row['dep_time']\n",
        "    elif row['arr_time'] is np.nan and pd.notna(row['air_time']) and pd.notna(row['dep_time']):\n",
        "        row['arr_time'] = row['air_time'] + row['dep_time']\n",
        "    elif row['dep_time'] is np.nan and pd.notna(row['arr_time']) and pd.notna(row['air_time']):\n",
        "        row['dep_time'] = row['arr_time'] - row['air_time']\n",
        "    return row\n",
        "\n",
        "data = data.apply(impute_times, axis=1)\n",
        "\n",
        "# Delete row with more than 1 of those row that's NaN\n",
        "data = data.dropna(subset=['dep_time', 'arr_time', 'air_time'], thresh=2)"
      ]
    },
    {
      "cell_type": "code",
      "execution_count": null,
      "metadata": {
        "colab": {
          "base_uri": "https://localhost:8080/"
        },
        "id": "TQDk0Y0ZuOCN",
        "outputId": "1b1a11bb-baa4-4a2e-85dd-b5d7f6bd6998"
      },
      "outputs": [],
      "source": [
        "# Filling remaining null on dep_delay, arr_delay, and air_time\n",
        "# Filling based on calculations\n",
        "# dep_delay = dep_time - sched_dep_time\n",
        "# arr_delay = arr_time - sched_arr_time\n",
        "# air_time = arr_time - dep_time\n",
        "\n",
        "data['dep_delay'] = data['dep_time'] - data['sched_dep_time']\n",
        "data['arr_delay'] = data['arr_time'] - data['sched_arr_time']\n",
        "data['air_time'] = data['arr_time'] - data['dep_time']\n",
        "data.info()"
      ]
    },
    {
      "cell_type": "code",
      "execution_count": null,
      "metadata": {
        "id": "_ylsFAN2uSEP"
      },
      "outputs": [],
      "source": [
        "# Categorize flight duration\n",
        "# Short haul (0 - 180 mins)\n",
        "# Medium haul (180 - 360 mins)\n",
        "# Long haul (360 - 720 mins)\n",
        "# Ultra long haul (> 720 mins)\n",
        "\n",
        "def categorize_flight(duration):\n",
        "    if duration < 180:\n",
        "        return 'Short Flight'\n",
        "    elif duration < 360:\n",
        "        return 'Medium Flight'\n",
        "    elif duration <= 720:\n",
        "        return 'Long Flight'\n",
        "    else:\n",
        "        return 'Ultra Long Flight'\n",
        "\n",
        "data['flight_category'] = data['sched_air_time'].apply(categorize_flight)"
      ]
    },
    {
      "cell_type": "code",
      "execution_count": null,
      "metadata": {
        "id": "CD8Z0DJEVn3f"
      },
      "outputs": [],
      "source": [
        "# Categorize scheduled departure time\n",
        "\n",
        "def categorize_dep_time(sched_dep):\n",
        "    if sched_dep < 360:  # 00:00 - 05:59\n",
        "        return '1'\n",
        "    elif sched_dep < 720:  # 06:00 - 11:59\n",
        "        return '2'\n",
        "    elif sched_dep < 1080:  # 12:00 - 17:59\n",
        "        return '3'\n",
        "    else:  # 18:00 - 23:59\n",
        "        return '4'\n",
        "\n",
        "data['sched_dep_category'] = data['sched_dep_time'].apply(categorize_dep_time)\n"
      ]
    },
    {
      "cell_type": "code",
      "execution_count": null,
      "metadata": {
        "colab": {
          "base_uri": "https://localhost:8080/",
          "height": 412
        },
        "id": "95A4OuOqUymG",
        "outputId": "486f504a-805f-48bc-80ff-8d5500f02439"
      },
      "outputs": [],
      "source": [
        "data.head(10)"
      ]
    },
    {
      "cell_type": "code",
      "execution_count": null,
      "metadata": {
        "colab": {
          "base_uri": "https://localhost:8080/",
          "height": 742
        },
        "id": "12XYz92_WdC4",
        "outputId": "10f81fa6-d8c6-4931-bf71-8311ba69047d"
      },
      "outputs": [],
      "source": [
        "data.isnull().sum()"
      ]
    },
    {
      "cell_type": "code",
      "execution_count": null,
      "metadata": {
        "colab": {
          "base_uri": "https://localhost:8080/"
        },
        "id": "jeb3yYAiufCU",
        "outputId": "9d58dd90-ccb1-4a03-cfcc-ae99ecd90795"
      },
      "outputs": [],
      "source": [
        "imputer = SimpleImputer(strategy='most_frequent')\n",
        "\n",
        "catColumns = data.select_dtypes(include=['object'])\n",
        "catNan = catColumns.columns[catColumns.isna().any()]\n",
        "print(catNan) # Check which categorical columns have missing values\n",
        "\n",
        "for col in catColumns:\n",
        "  encoder = LabelEncoder()\n",
        "  data[col] = encoder.fit_transform(data[col].astype(str)) # Encoding categorical values into numerical representation\n",
        "  if col in catNan:\n",
        "    data[col] = imputer.fit_transform(data[[col]]) # Filling Nan values with a most frequent value (mode)\n",
        "\n",
        "data.info()"
      ]
    },
    {
      "cell_type": "code",
      "execution_count": null,
      "metadata": {
        "colab": {
          "base_uri": "https://localhost:8080/",
          "height": 959
        },
        "id": "XdcDbA0LVlFz",
        "outputId": "cd2ccff4-feda-45d2-b351-cf891807f343"
      },
      "outputs": [],
      "source": [
        "data.boxplot(figsize=(12, 10))\n",
        "plt.xticks(rotation=90)\n",
        "plt.show()"
      ]
    },
    {
      "cell_type": "code",
      "execution_count": null,
      "metadata": {
        "colab": {
          "base_uri": "https://localhost:8080/",
          "height": 1000
        },
        "id": "0H2E16x1yX05",
        "outputId": "f1e139af-5208-4244-a62b-b56f91e92700"
      },
      "outputs": [],
      "source": [
        "# Display the data distribution for each column\n",
        "plt.figure(figsize=(12, 10))\n",
        "data.hist(bins=100, figsize=(12, 10), edgecolor='black', layout=(5, 5))\n",
        "\n",
        "plt.tight_layout()\n",
        "plt.show()"
      ]
    },
    {
      "cell_type": "code",
      "execution_count": null,
      "metadata": {
        "colab": {
          "base_uri": "https://localhost:8080/"
        },
        "id": "bywAvnDeNT-I",
        "outputId": "d8d9bc7c-cfc9-4f81-d00a-5010a698e4a2"
      },
      "outputs": [],
      "source": [
        "# Calculate Q1 (25th percentile) and Q3 (75th percentile) for each column\n",
        "Q1 = data.quantile(0.25)\n",
        "Q3 = data.quantile(0.75)\n",
        "\n",
        "# Calculate the Interquartile Range (IQR)\n",
        "IQR = Q3 - Q1\n",
        "\n",
        "# Keep rows where all values are within the IQR range (no outliers)\n",
        "data = data[((data >= (Q1 - 1.5 * IQR)) & (data <= (Q3 + 1.5 * IQR))).all(axis=1)]\n",
        "data.shape"
      ]
    },
    {
      "cell_type": "code",
      "execution_count": null,
      "metadata": {
        "colab": {
          "base_uri": "https://localhost:8080/",
          "height": 959
        },
        "id": "1P3koU_5lXUo",
        "outputId": "7278792f-2f7b-497b-ef17-0116739964b6"
      },
      "outputs": [],
      "source": [
        "data.boxplot(figsize=(12, 10))\n",
        "plt.xticks(rotation=90)\n",
        "plt.show()"
      ]
    },
    {
      "cell_type": "code",
      "execution_count": null,
      "metadata": {
        "colab": {
          "base_uri": "https://localhost:8080/",
          "height": 964
        },
        "id": "17fIZdoqsrKz",
        "outputId": "0c53b431-5824-41bb-bf5e-8c0709fc5652"
      },
      "outputs": [],
      "source": [
        "corr = data.corr()\n",
        "\n",
        "plt.figure(figsize=(15,10))\n",
        "\n",
        "plt.xticks(rotation=90)\n",
        "plt.yticks(rotation=0)\n",
        "sns.heatmap(corr, annot=True, fmt='.2f', cmap='Blues', linewidths=1)\n",
        "plt.show()"
      ]
    },
    {
      "cell_type": "code",
      "execution_count": null,
      "metadata": {
        "colab": {
          "base_uri": "https://localhost:8080/"
        },
        "id": "TzgkWy4ylhg5",
        "outputId": "cd045857-686c-4da5-fda5-f6e251cdd1bc"
      },
      "outputs": [],
      "source": [
        "data.info()"
      ]
    },
    {
      "cell_type": "code",
      "execution_count": null,
      "metadata": {
        "colab": {
          "base_uri": "https://localhost:8080/",
          "height": 443
        },
        "id": "XT0uxxNumhNK",
        "outputId": "10c07bba-eb90-455b-d771-04501cff1da6"
      },
      "outputs": [],
      "source": [
        "data.reset_index()"
      ]
    },
    {
      "cell_type": "code",
      "execution_count": null,
      "metadata": {
        "colab": {
          "base_uri": "https://localhost:8080/",
          "height": 1000
        },
        "id": "IGscPqgpWBBY",
        "outputId": "c09ed21c-1e57-4081-ddb4-2d9e81d86bd7"
      },
      "outputs": [],
      "source": [
        "# Display the data distribution for each column\n",
        "plt.figure(figsize=(12, 10))\n",
        "data.hist(bins=100, figsize=(12, 10), edgecolor='black', layout=(5, 5))\n",
        "\n",
        "plt.tight_layout()\n",
        "plt.show()"
      ]
    },
    {
      "cell_type": "code",
      "execution_count": null,
      "metadata": {
        "colab": {
          "base_uri": "https://localhost:8080/",
          "height": 450
        },
        "id": "8Y_38znH6cy4",
        "outputId": "7f5c5d4d-602f-4678-aba6-8376e2659751"
      },
      "outputs": [],
      "source": [
        "# correlation between two columns\n",
        "sns.scatterplot(data=data, x='sched_air_time', y='flight_category')\n",
        "plt.show()"
      ]
    },
    {
      "cell_type": "code",
      "execution_count": null,
      "metadata": {
        "colab": {
          "base_uri": "https://localhost:8080/",
          "height": 450
        },
        "id": "UPBCsEnsLVvg",
        "outputId": "fe51cf57-13aa-4cf9-828c-eaf3660741af"
      },
      "outputs": [],
      "source": [
        "sns.scatterplot(data=data, x='sched_air_time', y='distance')\n",
        "plt.show()"
      ]
    },
    {
      "cell_type": "code",
      "execution_count": null,
      "metadata": {
        "colab": {
          "base_uri": "https://localhost:8080/",
          "height": 450
        },
        "id": "eCShos_TxvML",
        "outputId": "21113436-4acb-4015-d006-d1a0181667d3"
      },
      "outputs": [],
      "source": [
        "# correlation between two columns\n",
        "sns.scatterplot(data=data, x='sched_air_time', y='distance')\n",
        "plt.show()"
      ]
    },
    {
      "cell_type": "code",
      "execution_count": null,
      "metadata": {
        "colab": {
          "base_uri": "https://localhost:8080/"
        },
        "id": "Pk8tvbqIaKW9",
        "outputId": "600cea4d-b9d0-4738-ddb0-66edac4efe9d"
      },
      "outputs": [],
      "source": [
        "# Checking unique value from these columns\n",
        "\n",
        "print(data[\"origin\"].unique())\n",
        "print(data[\"dest\"].unique())\n",
        "print(data[\"carrier\"].unique())"
      ]
    },
    {
      "cell_type": "code",
      "execution_count": null,
      "metadata": {
        "id": "vJQ_S1K5eIdA"
      },
      "outputs": [],
      "source": [
        "# Creating isWeekend feature\n",
        "# To know if a flight is on weekend/weekday based on the date\n",
        "\n",
        "data['isWeekend'] = pd.to_datetime({'year': 2013, 'month': data['month'], 'day': data['day']}).dt.weekday >= 5\n",
        "data['isWeekend'] = data['isWeekend'].astype(int)"
      ]
    },
    {
      "cell_type": "code",
      "execution_count": null,
      "metadata": {
        "id": "oFQlSiVOCl8e"
      },
      "outputs": [],
      "source": [
        "# Changing hhmm format to minutes from 00:00\n",
        "# Calculating scheduled air time\n",
        "# sched_air_time = sched_arr_time - sched_dep_time\n",
        "\n",
        "def hhmm_to_minutes(time):\n",
        "    hours = time // 100\n",
        "    minutes = time % 100\n",
        "    return hours * 60 + minutes\n",
        "\n",
        "data['dep_time'] = data['dep_time'].apply(lambda x: hhmm_to_minutes(int(x)) if pd.notna(x) else x)\n",
        "data['arr_time'] = data['arr_time'].apply(lambda x: hhmm_to_minutes(int(x)) if pd.notna(x) else x)\n",
        "data['sched_dep_time'] = data['sched_dep_time'].apply(hhmm_to_minutes)\n",
        "data['sched_arr_time'] = data['sched_arr_time'].apply(hhmm_to_minutes)\n",
        "\n",
        "data['sched_air_time'] = abs(data['sched_arr_time'] - data['sched_dep_time'])"
      ]
    },
    {
      "cell_type": "code",
      "execution_count": null,
      "metadata": {
        "id": "kHJxKJzRU-FB"
      },
      "outputs": [],
      "source": [
        "# Imputation based on this formula:\n",
        "# air_time = arr_time - dep_time\n",
        "\n",
        "def impute_times(row):\n",
        "    if row['air_time'] is np.nan and pd.notna(row['arr_time']) and pd.notna(row['dep_time']):\n",
        "        row['air_time'] = row['arr_time'] - row['dep_time']\n",
        "    elif row['arr_time'] is np.nan and pd.notna(row['air_time']) and pd.notna(row['dep_time']):\n",
        "        row['arr_time'] = row['air_time'] + row['dep_time']\n",
        "    elif row['dep_time'] is np.nan and pd.notna(row['arr_time']) and pd.notna(row['air_time']):\n",
        "        row['dep_time'] = row['arr_time'] - row['air_time']\n",
        "    return row\n",
        "\n",
        "data = data.apply(impute_times, axis=1)\n",
        "\n",
        "# Delete row with more than 1 of those row that's NaN\n",
        "data = data.dropna(subset=['dep_time', 'arr_time', 'air_time'], thresh=2)"
      ]
    },
    {
      "cell_type": "code",
      "execution_count": null,
      "metadata": {
        "colab": {
          "base_uri": "https://localhost:8080/"
        },
        "id": "5g5d-LxcAdsH",
        "outputId": "45e456f6-5940-40bc-cab2-62975b399ca1"
      },
      "outputs": [],
      "source": [
        "# Filling remaining null on dep_delay, arr_delay, and air_time\n",
        "# Filling based on calculations\n",
        "# dep_delay = dep_time - sched_dep_time\n",
        "# arr_delay = arr_time - sched_arr_time\n",
        "# air_time = arr_time - dep_time\n",
        "\n",
        "data['dep_delay'] = data['dep_time'] - data['sched_dep_time']\n",
        "data['arr_delay'] = data['arr_time'] - data['sched_arr_time']\n",
        "data['air_time'] = data['arr_time'] - data['dep_time']\n",
        "data.info()"
      ]
    },
    {
      "cell_type": "code",
      "execution_count": null,
      "metadata": {
        "id": "S9KY-GUF8uLf"
      },
      "outputs": [],
      "source": [
        "# Categorize flight duration\n",
        "# Short haul (0 - 180 mins)\n",
        "# Medium haul (180 - 360 mins)\n",
        "# Long haul (360 - 720 mins)\n",
        "# Ultra long haul (> 720 mins)\n",
        "\n",
        "def categorize_flight(duration):\n",
        "    if duration < 180:\n",
        "        return 'Short Flight'\n",
        "    elif duration < 360:\n",
        "        return 'Medium Flight'\n",
        "    elif duration <= 720:\n",
        "        return 'Long Flight'\n",
        "    else:\n",
        "        return 'Ultra Long Flight'\n",
        "\n",
        "data['flight_category'] = data['sched_air_time'].apply(categorize_flight)"
      ]
    }
  ],
  "metadata": {
    "colab": {
      "provenance": []
    },
    "kernelspec": {
      "display_name": "Python 3",
      "name": "python3"
    },
    "language_info": {
      "name": "python"
    }
  },
  "nbformat": 4,
  "nbformat_minor": 0
}
